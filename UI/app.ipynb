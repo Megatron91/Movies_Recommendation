{
  "nbformat": 4,
  "nbformat_minor": 0,
  "metadata": {
    "colab": {
      "name": "app.ipynb",
      "provenance": [],
      "collapsed_sections": [],
      "toc_visible": true
    },
    "kernelspec": {
      "name": "python3",
      "display_name": "Python 3"
    }
  },
  "cells": [
    {
      "cell_type": "markdown",
      "metadata": {
        "id": "G0kYg-q2dJQc",
        "colab_type": "text"
      },
      "source": [
        "# New section"
      ]
    },
    {
      "cell_type": "code",
      "metadata": {
        "id": "yWQrKABNqClW",
        "colab_type": "code",
        "colab": {}
      },
      "source": [
        "import pandas as pd\n",
        "from sklearn.metrics.pairwise import linear_kernel\n",
        "from sklearn.feature_extraction.text import TfidfVectorizer\n",
        "from sklearn.feature_extraction.text import CountVectorizer\n",
        "from sklearn.metrics.pairwise import cosine_similarity\n",
        "!pip install flask_ngrok \n",
        "import flask\n",
        "import difflib\n",
        "from flask import Flask,request,render_template\n",
        "from flask_ngrok import run_with_ngrok"
      ],
      "execution_count": null,
      "outputs": []
    },
    {
      "cell_type": "code",
      "metadata": {
        "id": "zJ3UlH8bjUoe",
        "colab_type": "code",
        "colab": {}
      },
      "source": [
        "ratings=pd.read_csv('/content/drive/My Drive/datasets/Ratings .csv')\n",
        "movies=pd.read_csv('/content/drive/My Drive/datasets/movies.csv')\n",
        "userdata=pd.read_csv('/content/drive/My Drive/datasets/user_data.csv')\n",
        "d=pd.merge(userdata,ratings,on='UserID',how='left')\n",
        "df=pd.merge(d,movies,on='MovieID',how='left')"
      ],
      "execution_count": 4,
      "outputs": []
    },
    {
      "cell_type": "code",
      "metadata": {
        "id": "Emiu4ZU7hvJI",
        "colab_type": "code",
        "colab": {}
      },
      "source": [
        "from google.colab import drive\n",
        "drive.mount('/content/drive')"
      ],
      "execution_count": null,
      "outputs": []
    },
    {
      "cell_type": "markdown",
      "metadata": {
        "id": "yndgODe2dHJh",
        "colab_type": "text"
      },
      "source": [
        "# New section"
      ]
    },
    {
      "cell_type": "markdown",
      "metadata": {
        "id": "yPF-VAPq8LGl",
        "colab_type": "text"
      },
      "source": [
        "***User Based Surprise SVD***"
      ]
    },
    {
      "cell_type": "code",
      "metadata": {
        "id": "7GcUbTXlmkIn",
        "colab_type": "code",
        "colab": {}
      },
      "source": [
        "e = pd.read_csv('/content/drive/My Drive/datasets/svd_p.csv')    ##Read predicted(USER BASED) dataset"
      ],
      "execution_count": 15,
      "outputs": []
    },
    {
      "cell_type": "code",
      "metadata": {
        "id": "BqlqcOaLJj8H",
        "colab_type": "code",
        "colab": {}
      },
      "source": [
        "#Recommend Top N to User\n",
        "def recommend(userid_, n):\n",
        "  f=e.loc[e[(e.uid==userid_)].est.sort_values(ascending=False).index][:n].iid.tolist()\n",
        "  p=movies.loc[movies[movies.MovieID.isin(f)].index]\n",
        "  k = ratings.loc[ratings[(ratings.UserID==userid_)].index]['MovieID'].tolist()\n",
        "  return p.loc[p[~p.MovieID.isin(k)].index]\n",
        "\n",
        "def rec(a,b):\n",
        "  t = recommend(a,b)[['MovieID','Title','Genres']]\n",
        "  t1,t2,t3 = t['MovieID'].to_list(),t['Title'].to_list(),t['Genres'].to_list()\n",
        "  return t1,t2,t3\n",
        "\n",
        "get_recommendations('Paths of Glory (1957)')"
      ],
      "execution_count": 17,
      "outputs": []
    },
    {
      "cell_type": "code",
      "metadata": {
        "id": "XZl-tcIt6-A1",
        "colab_type": "code",
        "colab": {}
      },
      "source": [
        "recommend(1,15)"
      ],
      "execution_count": null,
      "outputs": []
    },
    {
      "cell_type": "markdown",
      "metadata": {
        "id": "OaXGa2WSMxkX",
        "colab_type": "text"
      },
      "source": [
        "***Content Based (Genres)***"
      ]
    },
    {
      "cell_type": "code",
      "metadata": {
        "id": "CIVsaCtONKd9",
        "colab_type": "code",
        "colab": {}
      },
      "source": [
        "#Split Movies Genres in str\n",
        "movies['Genres_'] = movies['Genres'].str.split('|')\n",
        "movies['Genres_'] = movies['Genres'].fillna(\"\").astype('str')\n",
        "movies.head(50)\n",
        "\n",
        "\n",
        "tf = TfidfVectorizer(analyzer='word',ngram_range=(1, 2),min_df=0)\n",
        "matrix = tf.fit_transform(movies['Genres_'])\n",
        "csim = linear_kernel(matrix,matrix)\n",
        "\n",
        "titles = movies['Title']\n",
        "indices = pd.Series(movies.index, index=movies['Title'])\n",
        "\n",
        "#Recommend Similar Movies\n",
        "def c_rec(title):\n",
        "    idx = indices[title]\n",
        "    sim_sc = list(enumerate(csim[idx]))\n",
        "    sim_sc = sorted(sim_sc, key=lambda x: x[1], reverse=True)[1:]\n",
        "    movie_idx = [i[0] for i in sim_sc]\n",
        "    print('Movies Similar to : ',title)\n",
        "    yy=pd.DataFrame(movies.Title.iloc[movie_idx])[:10]\n",
        "    return yy\n",
        "c_rec('Dracula: Dead and Loving It (1995)')"
      ],
      "execution_count": null,
      "outputs": []
    },
    {
      "cell_type": "markdown",
      "metadata": {
        "id": "AJl3Sz5Ds0fu",
        "colab_type": "text"
      },
      "source": [
        "***CountVectorizer***"
      ]
    },
    {
      "cell_type": "code",
      "metadata": {
        "id": "_UX8HdgVmwGA",
        "colab_type": "code",
        "colab": {}
      },
      "source": [
        "#fit and Trnasform the data into Vectorizer\n",
        "cv = CountVectorizer()\n",
        "cv_matrix = cv.fit_transform(movies['Genres'])\n",
        "simc = cosine_similarity(cv_matrix, cv_matrix)\n",
        "\n",
        "movies_ = movies.reset_index()\n",
        "indices = pd.Series(movies_.index, index=df2['Title'])\n",
        "all_titles = [movies['Title'][i] for i in range(len(df2['Title']))]\n",
        "\n",
        "# Recommendation\n",
        "def get_recommendations(title):\n",
        "    idx = indices[title]\n",
        "    sim_scores = list(enumerate(simc[idx]))\n",
        "    sim_scores = sorted(sim_scores, key=lambda x: x[1], reverse=True)\n",
        "    sim_scores = sim_scores[1:11]\n",
        "    movie_indices = [i[0] for i in sim_scores]\n",
        "    tit = movies['Title'].iloc[movie_indices]\n",
        "    dat = movies['Genres'].iloc[movie_indices]\n",
        "    return_df = pd.DataFrame(columns=['Title','Genres'])\n",
        "    return_df['Title'] = tit\n",
        "    return_df['Genres'] = dat\n",
        "    return return_df\n",
        "get_recommendations('Paths of Glory (1957)')"
      ],
      "execution_count": null,
      "outputs": []
    },
    {
      "cell_type": "code",
      "metadata": {
        "id": "GCd-R_TkIMGQ",
        "colab_type": "code",
        "colab": {
          "base_uri": "https://localhost:8080/",
          "height": 147
        },
        "outputId": "a81aedc8-71be-400a-ce2e-7c0d83534b83"
      },
      "source": [
        "\n",
        "app = flask.Flask(__name__, template_folder='/content/drive/My Drive/datasets/templates')\n",
        "run_with_ngrok(app)\n",
        "\n",
        "\n",
        "@app.route('/', methods=['GET', 'POST'])\n",
        "def index(): return render_template('front.html')\n",
        "\n",
        "\n",
        "@app.route(\"/predict/\",methods=[\"POST\"])\n",
        "def main():\n",
        "  if request.method == 'POST': m_name = request.form['movie_name'].title()\n",
        "  if request.method == \"GET\" : m_name = request.args.get('movie_name').title()\n",
        "  \n",
        "\n",
        "  print(m_name)\n",
        "  if m_name not in all_titles: return(render_template('front.html'))\n",
        "  else:\n",
        "    result_final = get_recommendations(m_name)\n",
        "    names = []\n",
        "    dates = []\n",
        "    for i in range(len(result_final)):\n",
        "      names.append(result_final.iloc[i][0])\n",
        "      dates.append(result_final.iloc[i][1])\n",
        "    return flask.render_template('back.html',result = 1,ret = zip(names,dates),search_name=m_name)\n",
        "\n",
        "\n",
        "@app.route(\"/user/\",methods=[\"POST\"])\n",
        "def userPred():\n",
        "  print(request.method)\n",
        "\n",
        "  try: a = int(request.form['user_id'])\n",
        "  except: return render_template('front.html')\n",
        "  print(a)\n",
        "  b = 30\n",
        "  t1,t2,t3 = rec(a,b)\n",
        "  return render_template('back.html',neut = 1,ret = zip(t1,t2,t3))\n",
        "\n",
        "if __name__ == '__main__':\n",
        "    app.run()"
      ],
      "execution_count": 29,
      "outputs": [
        {
          "output_type": "stream",
          "text": [
            " * Serving Flask app \"__main__\" (lazy loading)\n",
            " * Environment: production\n",
            "\u001b[31m   WARNING: This is a development server. Do not use it in a production deployment.\u001b[0m\n",
            "\u001b[2m   Use a production WSGI server instead.\u001b[0m\n",
            " * Debug mode: off\n"
          ],
          "name": "stdout"
        },
        {
          "output_type": "stream",
          "text": [
            " * Running on http://127.0.0.1:5000/ (Press CTRL+C to quit)\n"
          ],
          "name": "stderr"
        },
        {
          "output_type": "stream",
          "text": [
            " * Running on http://e4a744d66029.ngrok.io\n",
            " * Traffic stats available on http://127.0.0.1:4040\n"
          ],
          "name": "stdout"
        }
      ]
    }
  ]
}